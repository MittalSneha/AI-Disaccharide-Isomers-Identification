{
  "nbformat": 4,
  "nbformat_minor": 0,
  "metadata": {
    "colab": {
      "provenance": [],
      "toc_visible": true,
      "authorship_tag": "ABX9TyPNnb2yWOj9N60LJzNS/Zjc",
      "include_colab_link": true
    },
    "kernelspec": {
      "name": "python3",
      "display_name": "Python 3"
    },
    "language_info": {
      "name": "python"
    }
  },
  "cells": [
    {
      "cell_type": "markdown",
      "metadata": {
        "id": "view-in-github",
        "colab_type": "text"
      },
      "source": [
        "<a href=\"https://colab.research.google.com/github/MittalSneha/AI-Disaccharide-Isomers-Identification/blob/main/Gly_Sar_final_all_models.ipynb\" target=\"_parent\"><img src=\"https://colab.research.google.com/assets/colab-badge.svg\" alt=\"Open In Colab\"/></a>"
      ]
    },
    {
      "cell_type": "code",
      "execution_count": null,
      "metadata": {
        "id": "LpM0ZmlhrUMK"
      },
      "outputs": [],
      "source": [
        "import numpy as np # linear algebra\n",
        "import pandas as pd # data processing, CSV file I/O (e.g. pd.read_csv)\n",
        "import matplotlib.pyplot as plt # for data visualization\n",
        "import seaborn as sns # for statistical data visualization\n",
        "from sklearn.metrics import accuracy_score\n",
        "from sklearn.model_selection import cross_validate"
      ]
    },
    {
      "cell_type": "code",
      "source": [
        "x_train = pd.read_excel('x_train.xlsx')\n",
        "x_test = pd.read_excel('x_test.xlsx')\n",
        "y_train = pd.read_excel('y_train.xlsx')\n",
        "y_test = pd.read_excel('y_test.xlsx')"
      ],
      "metadata": {
        "id": "8qWoWRodr1mQ"
      },
      "execution_count": null,
      "outputs": []
    },
    {
      "cell_type": "code",
      "source": [
        "from sklearn.model_selection import cross_validate\n",
        "x= np.concatenate((x_train, x_test), axis=0)\n",
        "y= np.concatenate((y_train, y_test), axis=0)"
      ],
      "metadata": {
        "id": "mSg_xjDbsJ9a"
      },
      "execution_count": null,
      "outputs": []
    },
    {
      "cell_type": "markdown",
      "source": [
        "# **RFC**"
      ],
      "metadata": {
        "id": "3j8M8gSFr7VG"
      }
    },
    {
      "cell_type": "code",
      "source": [
        "from sklearn.ensemble import RandomForestClassifier\n",
        "RFC = RandomForestClassifier(n_estimators= 100, random_state=8, max_features=None, max_depth= 32, criterion='gini')\n",
        "RFC.fit(x_train, y_train)\n",
        "RFC_pred = RFC.predict(x_test)\n",
        "RFC_acc= accuracy_score(y_test, RFC_pred)\n",
        "RFC_acc"
      ],
      "metadata": {
        "colab": {
          "base_uri": "https://localhost:8080/"
        },
        "id": "BsGY4upNr8ug",
        "outputId": "95aa0ff3-7b43-43b3-9b92-5124214bab55"
      },
      "execution_count": null,
      "outputs": [
        {
          "output_type": "stream",
          "name": "stderr",
          "text": [
            "<ipython-input-5-669f3b5f7a07>:3: DataConversionWarning: A column-vector y was passed when a 1d array was expected. Please change the shape of y to (n_samples,), for example using ravel().\n",
            "  RFC.fit(x_train, y_train)\n"
          ]
        },
        {
          "output_type": "execute_result",
          "data": {
            "text/plain": [
              "0.97"
            ]
          },
          "metadata": {},
          "execution_count": 5
        }
      ]
    },
    {
      "cell_type": "code",
      "source": [
        "RFC_pred1 = RFC.predict(x_train)\n",
        "RFC_acc1= accuracy_score(y_train, RFC_pred1)\n",
        "RFC_acc1"
      ],
      "metadata": {
        "colab": {
          "base_uri": "https://localhost:8080/"
        },
        "id": "L8nxmLW4r-yg",
        "outputId": "70ea035b-2024-4a50-cca4-b00d5f0eecb2"
      },
      "execution_count": null,
      "outputs": [
        {
          "output_type": "execute_result",
          "data": {
            "text/plain": [
              "0.99875"
            ]
          },
          "metadata": {},
          "execution_count": 6
        }
      ]
    },
    {
      "cell_type": "code",
      "source": [
        "CV_RFC= cross_validate(estimator=RFC, X=x, y=y, cv=10, scoring='accuracy', return_train_score=True)\n",
        "CV_RFC\n",
        "train_accuracies1 = CV_RFC['train_score']\n",
        "test_accuracies1 = CV_RFC['test_score']\n",
        "mean_train_accuracy1 = np.mean(train_accuracies1)\n",
        "mean_test_accuracy1 = np.mean(test_accuracies1)\n",
        "print(\"Train Accuracy Scores:\", train_accuracies1)\n",
        "print(\"Test Accuracy Scores:\", test_accuracies1)\n",
        "print(\"\\nMean Train Accuracy:\", mean_train_accuracy1)\n",
        "print(\"Mean Test Accuracy:\", mean_test_accuracy1)"
      ],
      "metadata": {
        "colab": {
          "base_uri": "https://localhost:8080/"
        },
        "id": "Qk_qBdZKsDkf",
        "outputId": "9fbaa943-4bb5-4fa4-9e7c-f18101f75f02"
      },
      "execution_count": null,
      "outputs": [
        {
          "output_type": "stream",
          "name": "stderr",
          "text": [
            "/usr/local/lib/python3.10/dist-packages/sklearn/model_selection/_validation.py:686: DataConversionWarning: A column-vector y was passed when a 1d array was expected. Please change the shape of y to (n_samples,), for example using ravel().\n",
            "  estimator.fit(X_train, y_train, **fit_params)\n",
            "/usr/local/lib/python3.10/dist-packages/sklearn/model_selection/_validation.py:686: DataConversionWarning: A column-vector y was passed when a 1d array was expected. Please change the shape of y to (n_samples,), for example using ravel().\n",
            "  estimator.fit(X_train, y_train, **fit_params)\n",
            "/usr/local/lib/python3.10/dist-packages/sklearn/model_selection/_validation.py:686: DataConversionWarning: A column-vector y was passed when a 1d array was expected. Please change the shape of y to (n_samples,), for example using ravel().\n",
            "  estimator.fit(X_train, y_train, **fit_params)\n",
            "/usr/local/lib/python3.10/dist-packages/sklearn/model_selection/_validation.py:686: DataConversionWarning: A column-vector y was passed when a 1d array was expected. Please change the shape of y to (n_samples,), for example using ravel().\n",
            "  estimator.fit(X_train, y_train, **fit_params)\n",
            "/usr/local/lib/python3.10/dist-packages/sklearn/model_selection/_validation.py:686: DataConversionWarning: A column-vector y was passed when a 1d array was expected. Please change the shape of y to (n_samples,), for example using ravel().\n",
            "  estimator.fit(X_train, y_train, **fit_params)\n",
            "/usr/local/lib/python3.10/dist-packages/sklearn/model_selection/_validation.py:686: DataConversionWarning: A column-vector y was passed when a 1d array was expected. Please change the shape of y to (n_samples,), for example using ravel().\n",
            "  estimator.fit(X_train, y_train, **fit_params)\n",
            "/usr/local/lib/python3.10/dist-packages/sklearn/model_selection/_validation.py:686: DataConversionWarning: A column-vector y was passed when a 1d array was expected. Please change the shape of y to (n_samples,), for example using ravel().\n",
            "  estimator.fit(X_train, y_train, **fit_params)\n",
            "/usr/local/lib/python3.10/dist-packages/sklearn/model_selection/_validation.py:686: DataConversionWarning: A column-vector y was passed when a 1d array was expected. Please change the shape of y to (n_samples,), for example using ravel().\n",
            "  estimator.fit(X_train, y_train, **fit_params)\n",
            "/usr/local/lib/python3.10/dist-packages/sklearn/model_selection/_validation.py:686: DataConversionWarning: A column-vector y was passed when a 1d array was expected. Please change the shape of y to (n_samples,), for example using ravel().\n",
            "  estimator.fit(X_train, y_train, **fit_params)\n",
            "/usr/local/lib/python3.10/dist-packages/sklearn/model_selection/_validation.py:686: DataConversionWarning: A column-vector y was passed when a 1d array was expected. Please change the shape of y to (n_samples,), for example using ravel().\n",
            "  estimator.fit(X_train, y_train, **fit_params)\n"
          ]
        },
        {
          "output_type": "stream",
          "name": "stdout",
          "text": [
            "Train Accuracy Scores: [0.99888889 0.99888889 0.99888889 0.99888889 1.         1.\n",
            " 0.99888889 0.99888889 0.99888889 0.99888889]\n",
            "Test Accuracy Scores: [0.98 0.94 0.96 0.97 0.98 0.98 0.97 0.98 0.95 0.97]\n",
            "\n",
            "Mean Train Accuracy: 0.9991111111111112\n",
            "Mean Test Accuracy: 0.968\n"
          ]
        }
      ]
    },
    {
      "cell_type": "markdown",
      "source": [
        "## **DTC**"
      ],
      "metadata": {
        "id": "FmZ22ZeJsX6l"
      }
    },
    {
      "cell_type": "code",
      "source": [
        "from sklearn.tree import DecisionTreeClassifier\n",
        "DTC = DecisionTreeClassifier(criterion='gini', max_depth=32, max_features=None, random_state=5)\n",
        "DTC.fit(x_train, y_train)\n",
        "DTC_pred = DTC.predict(x_test)\n",
        "DTC_acc= accuracy_score(y_test, DTC_pred)\n",
        "DTC_acc"
      ],
      "metadata": {
        "colab": {
          "base_uri": "https://localhost:8080/"
        },
        "id": "Khf0nfhy2rmY",
        "outputId": "e162fdf3-d0b7-48c3-aa2c-c2c10c86e85a"
      },
      "execution_count": null,
      "outputs": [
        {
          "output_type": "execute_result",
          "data": {
            "text/plain": [
              "0.95"
            ]
          },
          "metadata": {},
          "execution_count": 8
        }
      ]
    },
    {
      "cell_type": "code",
      "source": [
        "DTC_pred1 = DTC.predict(x_train)\n",
        "DTC_acc1= accuracy_score(y_train, DTC_pred1)\n",
        "DTC_acc1"
      ],
      "metadata": {
        "colab": {
          "base_uri": "https://localhost:8080/"
        },
        "id": "8sQ6TT0l2zVw",
        "outputId": "deb27fec-69de-4142-c2bd-9373d593622d"
      },
      "execution_count": null,
      "outputs": [
        {
          "output_type": "execute_result",
          "data": {
            "text/plain": [
              "0.99875"
            ]
          },
          "metadata": {},
          "execution_count": 9
        }
      ]
    },
    {
      "cell_type": "code",
      "source": [
        "CV_DTC = cross_validate(estimator=DTC, X=x, y=y, cv=10, scoring='accuracy', return_train_score=True)\n",
        "train_accuracies2 = CV_DTC['train_score']\n",
        "test_accuracies2 = CV_DTC['test_score']\n",
        "mean_train_accuracy2 = np.mean(train_accuracies2)\n",
        "mean_test_accuracy2 = np.mean(test_accuracies2)\n",
        "print(\"\\nDecision Tree Classifier:\")\n",
        "print(\"Train Accuracy Scores:\", train_accuracies2)\n",
        "print(\"Test Accuracy Scores:\", test_accuracies2)\n",
        "print(\"\\nMean Train Accuracy:\", mean_train_accuracy2)\n",
        "print(\"Mean Test Accuracy:\", mean_test_accuracy2)"
      ],
      "metadata": {
        "colab": {
          "base_uri": "https://localhost:8080/"
        },
        "id": "NgPbra5922Ww",
        "outputId": "b81b92f2-9106-44fe-e83c-4821efd76e44"
      },
      "execution_count": null,
      "outputs": [
        {
          "output_type": "stream",
          "name": "stdout",
          "text": [
            "\n",
            "Decision Tree Classifier:\n",
            "Train Accuracy Scores: [0.99888889 0.99888889 0.99888889 0.99888889 1.         1.\n",
            " 0.99888889 0.99888889 0.99888889 0.99888889]\n",
            "Test Accuracy Scores: [0.97 0.93 0.97 0.96 0.94 0.94 0.95 0.93 0.94 0.95]\n",
            "\n",
            "Mean Train Accuracy: 0.9991111111111112\n",
            "Mean Test Accuracy: 0.9479999999999998\n"
          ]
        }
      ]
    },
    {
      "cell_type": "markdown",
      "source": [
        "# **XGBC**"
      ],
      "metadata": {
        "id": "ZuZ8p2HL3zpF"
      }
    },
    {
      "cell_type": "code",
      "source": [
        "from xgboost import XGBClassifier\n",
        "XGBC = XGBClassifier(subsample= 1, objective= 'multi:softmax', num_class= 8, n_estimators= 1000, min_child_weight= 1, max_depth= 4, learning_rate= 0.3, gamma= 0.0001, colsample_bytree= 1.0)\n",
        "XGBC.fit(x_train, y_train)\n",
        "XGBC_pred = XGBC.predict(x_test)\n",
        "XGBC_acc = accuracy_score(y_test, XGBC_pred)\n",
        "XGBC_acc"
      ],
      "metadata": {
        "colab": {
          "base_uri": "https://localhost:8080/"
        },
        "id": "yb8nvH_H33XD",
        "outputId": "77ad2823-25ce-4a3b-f711-8658b158f5df"
      },
      "execution_count": null,
      "outputs": [
        {
          "output_type": "execute_result",
          "data": {
            "text/plain": [
              "0.985"
            ]
          },
          "metadata": {},
          "execution_count": 14
        }
      ]
    },
    {
      "cell_type": "code",
      "source": [
        "XGBC_pred1 = XGBC.predict(x_train)\n",
        "XGBC_acc1 = accuracy_score(y_train, XGBC_pred1)\n",
        "XGBC_acc1"
      ],
      "metadata": {
        "colab": {
          "base_uri": "https://localhost:8080/"
        },
        "id": "R76pwnJu36l8",
        "outputId": "148a3f52-c19b-418e-c813-6b706b5c4fe0"
      },
      "execution_count": null,
      "outputs": [
        {
          "output_type": "execute_result",
          "data": {
            "text/plain": [
              "0.995"
            ]
          },
          "metadata": {},
          "execution_count": 15
        }
      ]
    },
    {
      "cell_type": "code",
      "source": [
        "CV_XGBC= cross_validate(estimator=XGBC, X=x, y=y, cv=10, scoring='accuracy', return_train_score=True)\n",
        "CV_XGBC\n",
        "train_accuracies1 = CV_XGBC['train_score']\n",
        "test_accuracies1 = CV_XGBC['test_score']\n",
        "mean_train_accuracy1 = np.mean(train_accuracies1)\n",
        "mean_test_accuracy1 = np.mean(test_accuracies1)\n",
        "print(\"Train Accuracy Scores:\", train_accuracies1)\n",
        "print(\"Test Accuracy Scores:\", test_accuracies1)\n",
        "print(\"\\nMean Train Accuracy:\", mean_train_accuracy1)\n",
        "print(\"Mean Test Accuracy:\", mean_test_accuracy1)"
      ],
      "metadata": {
        "colab": {
          "base_uri": "https://localhost:8080/"
        },
        "id": "CL36uMkk4G3j",
        "outputId": "f1b91ce4-b433-47cc-996d-f6224d08b11d"
      },
      "execution_count": null,
      "outputs": [
        {
          "output_type": "stream",
          "name": "stdout",
          "text": [
            "Train Accuracy Scores: [0.99555556 0.99666667 0.99555556 0.99666667 0.99777778 0.99444444\n",
            " 0.99555556 0.99555556 0.99555556 0.99555556]\n",
            "Test Accuracy Scores: [1.   0.97 0.99 0.99 0.98 1.   0.99 1.   0.99 1.  ]\n",
            "\n",
            "Mean Train Accuracy: 0.9958888888888888\n",
            "Mean Test Accuracy: 0.991\n"
          ]
        }
      ]
    },
    {
      "cell_type": "code",
      "source": [],
      "metadata": {
        "id": "6brooLzI4JAT"
      },
      "execution_count": null,
      "outputs": []
    },
    {
      "cell_type": "markdown",
      "source": [
        "# **ADBC**"
      ],
      "metadata": {
        "id": "VEYm_4fN4LmT"
      }
    },
    {
      "cell_type": "code",
      "source": [
        "from sklearn.ensemble import AdaBoostClassifier\n",
        "base_classifier = DecisionTreeClassifier()\n",
        "adaboost_classifier = AdaBoostClassifier(base_classifier)\n",
        "ADBC = AdaBoostClassifier(DecisionTreeClassifier(),n_estimators= 50, learning_rate= 0.004328761281083057)\n",
        "ADBC.fit(x_train, y_train)\n",
        "ADBC_pred = ADBC.predict(x_test)\n",
        "ADBC_acc = accuracy_score(y_test, ADBC_pred)\n",
        "ADBC_acc"
      ],
      "metadata": {
        "colab": {
          "base_uri": "https://localhost:8080/"
        },
        "id": "A2hGFKAi4PBz",
        "outputId": "2cd0220d-a592-4edb-864f-2122e31dbf28"
      },
      "execution_count": null,
      "outputs": [
        {
          "output_type": "stream",
          "name": "stderr",
          "text": [
            "/usr/local/lib/python3.10/dist-packages/sklearn/utils/validation.py:1143: DataConversionWarning: A column-vector y was passed when a 1d array was expected. Please change the shape of y to (n_samples, ), for example using ravel().\n",
            "  y = column_or_1d(y, warn=True)\n"
          ]
        },
        {
          "output_type": "execute_result",
          "data": {
            "text/plain": [
              "0.95"
            ]
          },
          "metadata": {},
          "execution_count": 17
        }
      ]
    },
    {
      "cell_type": "code",
      "source": [
        "ADBC_pred1 = ADBC.predict(x_train)\n",
        "ADBC_acc1 = accuracy_score(y_train, ADBC_pred1)\n",
        "ADBC_acc1"
      ],
      "metadata": {
        "colab": {
          "base_uri": "https://localhost:8080/"
        },
        "id": "ypFYyIcF4lV8",
        "outputId": "8cf26613-ee09-4e8a-8cfe-bad0dc9fc894"
      },
      "execution_count": null,
      "outputs": [
        {
          "output_type": "execute_result",
          "data": {
            "text/plain": [
              "0.99875"
            ]
          },
          "metadata": {},
          "execution_count": 18
        }
      ]
    },
    {
      "cell_type": "code",
      "source": [
        "CV_ADBC= cross_validate(estimator=ADBC, X=x, y=y, cv=10, scoring='accuracy', return_train_score=True)\n",
        "CV_ADBC\n",
        "train_accuracies1 = CV_ADBC['train_score']\n",
        "test_accuracies1 = CV_ADBC['test_score']\n",
        "mean_train_accuracy1 = np.mean(train_accuracies1)\n",
        "mean_test_accuracy1 = np.mean(test_accuracies1)\n",
        "print(\"Train Accuracy Scores:\", train_accuracies1)\n",
        "print(\"Test Accuracy Scores:\", test_accuracies1)\n",
        "print(\"\\nMean Train Accuracy:\", mean_train_accuracy1)\n",
        "print(\"Mean Test Accuracy:\", mean_test_accuracy1)"
      ],
      "metadata": {
        "colab": {
          "base_uri": "https://localhost:8080/"
        },
        "id": "9wvAnETC4n-U",
        "outputId": "70b23977-c37d-4482-e7e3-5c3047e62a76"
      },
      "execution_count": null,
      "outputs": [
        {
          "output_type": "stream",
          "name": "stderr",
          "text": [
            "/usr/local/lib/python3.10/dist-packages/sklearn/utils/validation.py:1143: DataConversionWarning: A column-vector y was passed when a 1d array was expected. Please change the shape of y to (n_samples, ), for example using ravel().\n",
            "  y = column_or_1d(y, warn=True)\n",
            "/usr/local/lib/python3.10/dist-packages/sklearn/utils/validation.py:1143: DataConversionWarning: A column-vector y was passed when a 1d array was expected. Please change the shape of y to (n_samples, ), for example using ravel().\n",
            "  y = column_or_1d(y, warn=True)\n",
            "/usr/local/lib/python3.10/dist-packages/sklearn/utils/validation.py:1143: DataConversionWarning: A column-vector y was passed when a 1d array was expected. Please change the shape of y to (n_samples, ), for example using ravel().\n",
            "  y = column_or_1d(y, warn=True)\n",
            "/usr/local/lib/python3.10/dist-packages/sklearn/utils/validation.py:1143: DataConversionWarning: A column-vector y was passed when a 1d array was expected. Please change the shape of y to (n_samples, ), for example using ravel().\n",
            "  y = column_or_1d(y, warn=True)\n",
            "/usr/local/lib/python3.10/dist-packages/sklearn/utils/validation.py:1143: DataConversionWarning: A column-vector y was passed when a 1d array was expected. Please change the shape of y to (n_samples, ), for example using ravel().\n",
            "  y = column_or_1d(y, warn=True)\n",
            "/usr/local/lib/python3.10/dist-packages/sklearn/utils/validation.py:1143: DataConversionWarning: A column-vector y was passed when a 1d array was expected. Please change the shape of y to (n_samples, ), for example using ravel().\n",
            "  y = column_or_1d(y, warn=True)\n",
            "/usr/local/lib/python3.10/dist-packages/sklearn/utils/validation.py:1143: DataConversionWarning: A column-vector y was passed when a 1d array was expected. Please change the shape of y to (n_samples, ), for example using ravel().\n",
            "  y = column_or_1d(y, warn=True)\n",
            "/usr/local/lib/python3.10/dist-packages/sklearn/utils/validation.py:1143: DataConversionWarning: A column-vector y was passed when a 1d array was expected. Please change the shape of y to (n_samples, ), for example using ravel().\n",
            "  y = column_or_1d(y, warn=True)\n",
            "/usr/local/lib/python3.10/dist-packages/sklearn/utils/validation.py:1143: DataConversionWarning: A column-vector y was passed when a 1d array was expected. Please change the shape of y to (n_samples, ), for example using ravel().\n",
            "  y = column_or_1d(y, warn=True)\n"
          ]
        },
        {
          "output_type": "stream",
          "name": "stdout",
          "text": [
            "Train Accuracy Scores: [0.99888889 0.99888889 0.99888889 0.99888889 1.         1.\n",
            " 0.99888889 0.99888889 0.99888889 0.99888889]\n",
            "Test Accuracy Scores: [0.97 0.94 0.98 0.95 0.97 0.94 0.95 0.93 0.94 0.95]\n",
            "\n",
            "Mean Train Accuracy: 0.9991111111111112\n",
            "Mean Test Accuracy: 0.952\n"
          ]
        },
        {
          "output_type": "stream",
          "name": "stderr",
          "text": [
            "/usr/local/lib/python3.10/dist-packages/sklearn/utils/validation.py:1143: DataConversionWarning: A column-vector y was passed when a 1d array was expected. Please change the shape of y to (n_samples, ), for example using ravel().\n",
            "  y = column_or_1d(y, warn=True)\n"
          ]
        }
      ]
    },
    {
      "cell_type": "markdown",
      "source": [
        "# **KNN**"
      ],
      "metadata": {
        "id": "86BC3jT54xCs"
      }
    },
    {
      "cell_type": "code",
      "source": [
        "from sklearn.neighbors import KNeighborsClassifier\n",
        "KNN = KNeighborsClassifier(n_neighbors= 18, weights='uniform', metric='euclidean', p=2)\n",
        "KNN.fit(x_train, y_train)\n",
        "KNN_pred = KNN.predict(x_test)\n",
        "KNN_acc= accuracy_score(y_test, KNN_pred)\n",
        "KNN_acc"
      ],
      "metadata": {
        "colab": {
          "base_uri": "https://localhost:8080/"
        },
        "id": "vhK478YI4oXj",
        "outputId": "dab64128-90a7-42a3-b69d-d0f109d8e24b"
      },
      "execution_count": null,
      "outputs": [
        {
          "output_type": "stream",
          "name": "stderr",
          "text": [
            "/usr/local/lib/python3.10/dist-packages/sklearn/neighbors/_classification.py:215: DataConversionWarning: A column-vector y was passed when a 1d array was expected. Please change the shape of y to (n_samples,), for example using ravel().\n",
            "  return self._fit(X, y)\n"
          ]
        },
        {
          "output_type": "execute_result",
          "data": {
            "text/plain": [
              "0.675"
            ]
          },
          "metadata": {},
          "execution_count": 20
        }
      ]
    },
    {
      "cell_type": "code",
      "source": [
        "KNN_pred1 = KNN.predict(x_train)\n",
        "KNN_acc1 = accuracy_score(y_train, KNN_pred1)\n",
        "KNN_acc1"
      ],
      "metadata": {
        "colab": {
          "base_uri": "https://localhost:8080/"
        },
        "id": "sUj4KSm940Wk",
        "outputId": "631ab2a3-f6ba-4a41-868b-e74d19c54256"
      },
      "execution_count": null,
      "outputs": [
        {
          "output_type": "execute_result",
          "data": {
            "text/plain": [
              "0.70375"
            ]
          },
          "metadata": {},
          "execution_count": 21
        }
      ]
    },
    {
      "cell_type": "code",
      "source": [
        "CV_KNN= cross_validate(estimator=KNN, X=x, y=y, cv=10, scoring='accuracy', return_train_score=True)\n",
        "CV_KNN\n",
        "train_accuracies1 = CV_KNN['train_score']\n",
        "test_accuracies1 = CV_KNN['test_score']\n",
        "mean_train_accuracy1 = np.mean(train_accuracies1)\n",
        "mean_test_accuracy1 = np.mean(test_accuracies1)\n",
        "print(\"Train Accuracy Scores:\", train_accuracies1)\n",
        "print(\"Test Accuracy Scores:\", test_accuracies1)\n",
        "print(\"\\nMean Train Accuracy:\", mean_train_accuracy1)\n",
        "print(\"Mean Test Accuracy:\", mean_test_accuracy1)"
      ],
      "metadata": {
        "colab": {
          "base_uri": "https://localhost:8080/"
        },
        "id": "ndlOr2775JKB",
        "outputId": "dd162e89-17c2-4168-e0be-436acdeaa705"
      },
      "execution_count": null,
      "outputs": [
        {
          "output_type": "stream",
          "name": "stderr",
          "text": [
            "/usr/local/lib/python3.10/dist-packages/sklearn/neighbors/_classification.py:215: DataConversionWarning: A column-vector y was passed when a 1d array was expected. Please change the shape of y to (n_samples,), for example using ravel().\n",
            "  return self._fit(X, y)\n",
            "/usr/local/lib/python3.10/dist-packages/sklearn/neighbors/_classification.py:215: DataConversionWarning: A column-vector y was passed when a 1d array was expected. Please change the shape of y to (n_samples,), for example using ravel().\n",
            "  return self._fit(X, y)\n",
            "/usr/local/lib/python3.10/dist-packages/sklearn/neighbors/_classification.py:215: DataConversionWarning: A column-vector y was passed when a 1d array was expected. Please change the shape of y to (n_samples,), for example using ravel().\n",
            "  return self._fit(X, y)\n",
            "/usr/local/lib/python3.10/dist-packages/sklearn/neighbors/_classification.py:215: DataConversionWarning: A column-vector y was passed when a 1d array was expected. Please change the shape of y to (n_samples,), for example using ravel().\n",
            "  return self._fit(X, y)\n",
            "/usr/local/lib/python3.10/dist-packages/sklearn/neighbors/_classification.py:215: DataConversionWarning: A column-vector y was passed when a 1d array was expected. Please change the shape of y to (n_samples,), for example using ravel().\n",
            "  return self._fit(X, y)\n",
            "/usr/local/lib/python3.10/dist-packages/sklearn/neighbors/_classification.py:215: DataConversionWarning: A column-vector y was passed when a 1d array was expected. Please change the shape of y to (n_samples,), for example using ravel().\n",
            "  return self._fit(X, y)\n",
            "/usr/local/lib/python3.10/dist-packages/sklearn/neighbors/_classification.py:215: DataConversionWarning: A column-vector y was passed when a 1d array was expected. Please change the shape of y to (n_samples,), for example using ravel().\n",
            "  return self._fit(X, y)\n",
            "/usr/local/lib/python3.10/dist-packages/sklearn/neighbors/_classification.py:215: DataConversionWarning: A column-vector y was passed when a 1d array was expected. Please change the shape of y to (n_samples,), for example using ravel().\n",
            "  return self._fit(X, y)\n",
            "/usr/local/lib/python3.10/dist-packages/sklearn/neighbors/_classification.py:215: DataConversionWarning: A column-vector y was passed when a 1d array was expected. Please change the shape of y to (n_samples,), for example using ravel().\n",
            "  return self._fit(X, y)\n"
          ]
        },
        {
          "output_type": "stream",
          "name": "stdout",
          "text": [
            "Train Accuracy Scores: [0.70777778 0.70888889 0.70777778 0.70222222 0.71111111 0.70777778\n",
            " 0.70222222 0.70777778 0.70555556 0.71666667]\n",
            "Test Accuracy Scores: [0.69 0.65 0.67 0.69 0.69 0.7  0.64 0.62 0.71 0.62]\n",
            "\n",
            "Mean Train Accuracy: 0.7077777777777777\n",
            "Mean Test Accuracy: 0.6679999999999999\n"
          ]
        },
        {
          "output_type": "stream",
          "name": "stderr",
          "text": [
            "/usr/local/lib/python3.10/dist-packages/sklearn/neighbors/_classification.py:215: DataConversionWarning: A column-vector y was passed when a 1d array was expected. Please change the shape of y to (n_samples,), for example using ravel().\n",
            "  return self._fit(X, y)\n"
          ]
        }
      ]
    }
  ]
}